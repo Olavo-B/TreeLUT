{
 "cells": [
  {
   "cell_type": "markdown",
   "id": "f013bb54",
   "metadata": {},
   "source": [
    "## Parameters"
   ]
  },
  {
   "cell_type": "code",
   "execution_count": 1,
   "id": "dc71b6eb",
   "metadata": {},
   "outputs": [],
   "source": [
    "xgb_params = {\n",
    "    'objective': 'multi:softmax', \n",
    "    'num_class': 2, \n",
    "    'n_estimators': 7, \n",
    "    'max_depth': 7, \n",
    "    'eta': 0.8\n",
    "}\n",
    "\n",
    "treelut_params = {\n",
    "    'w_feature': 4, \n",
    "    'w_tree': 2,\n",
    "    'bits_features': 32,\n",
    "    'pipeline': [0, 0, 0], \n",
    "    'dir_path': './OutputFiles/Susy/',\n",
    "    'style': 'mux',\n",
    "    'argmax': True,\n",
    "    'quantized': True}"
   ]
  },
  {
   "cell_type": "markdown",
   "id": "d1a3055e",
   "metadata": {},
   "source": [
    "## MNIST Data Loading"
   ]
  },
  {
   "cell_type": "code",
   "execution_count": 2,
   "id": "5b873edd",
   "metadata": {},
   "outputs": [],
   "source": [
    "import pandas as pd\n",
    "from LoadDataset import LoadDataset\n",
    "from sklearn.model_selection import train_test_split\n",
    "\n",
    "susy = pd.read_csv('./Data/Susy/SUSY_int.csv')\n",
    "data = susy.drop(columns=['target'])\n",
    "target = susy['target'].astype('int')\n",
    "\n",
    "X_train, X_test, y_train, y_test = train_test_split(data, target, test_size=0.2, random_state=42)"
   ]
  },
  {
   "cell_type": "code",
   "execution_count": 3,
   "id": "7f0e9c0a",
   "metadata": {},
   "outputs": [
    {
     "name": "stdout",
     "output_type": "stream",
     "text": [
      "Max values of each column in X_test:\n",
      "[   1000000   18299086 4294967295 4294967293   26110743 4294967295\n",
      " 4294967295   19206709 4294967290   22562485 4294967295   16918142\n",
      "   16166820    6731210   13025709   16989283   11336282    1591660]\n",
      "Min values of each column in X_test:\n",
      "[     0 255157     11      0 428586      6      3    720      0      0\n",
      "      4 268373   1041   2048      0  66475   4469      9]\n"
     ]
    }
   ],
   "source": [
    "data_un = data.astype('uint32')\n",
    "X_train, X_test, y_train, y_test = train_test_split(data_un, target, test_size=0.2, random_state=42)\n",
    "\n",
    "\n",
    "# Get max and min of each column of X_test\n",
    "max_values = X_test.max().astype('uint32')\n",
    "min_values = X_test.min().astype('uint32')\n",
    "\n",
    "# To np arrays\n",
    "max_values = max_values.to_numpy()\n",
    "min_values = min_values.to_numpy()\n",
    "\n",
    "print(\"Max values of each column in X_test:\")\n",
    "print(max_values)\n",
    "print(\"Min values of each column in X_test:\")\n",
    "print(min_values)"
   ]
  },
  {
   "cell_type": "code",
   "execution_count": 4,
   "id": "b0adb925",
   "metadata": {},
   "outputs": [],
   "source": [
    "# from torchvision import datasets\n",
    "# import numpy as np\n",
    "\n",
    "\n",
    "# data_train = datasets.MNIST(root=\"./Data\", train=True, download=True)\n",
    "# data_test = datasets.MNIST(root=\"./Data\", train=False, download=True)\n",
    "\n",
    "# X_train = np.array(data_train.data.numpy()).reshape(data_train.data.shape[0], -1)\n",
    "# y_train = np.array(data_train.targets.numpy())\n",
    "\n",
    "# X_test = np.array(data_test.data.numpy()).reshape(data_test.data.shape[0], -1)\n",
    "# y_test = np.array(data_test.targets.numpy())"
   ]
  },
  {
   "cell_type": "markdown",
   "id": "9e321b18",
   "metadata": {},
   "source": [
    "## Data Quantization"
   ]
  },
  {
   "cell_type": "code",
   "execution_count": 5,
   "id": "606e60d9",
   "metadata": {},
   "outputs": [],
   "source": [
    "from sklearn.preprocessing import MinMaxScaler\n",
    "import numpy as np\n",
    "\n",
    "\n",
    "scaler = MinMaxScaler()\n",
    "w_feature = treelut_params['w_feature']\n",
    "X_train_min_max = np.round(scaler.fit_transform(X_train)*(2**w_feature-1))\n",
    "X_test_min_max = np.clip(np.round(scaler.transform(X_test)*(2**w_feature-1)), 0, 2**w_feature-1)\n",
    "\n",
    "# Get the first 4 bits of each feature\n",
    "w_feature = treelut_params['w_feature']\n",
    "X_train_quantized = np.array(X_train, dtype=np.int32) & w_feature - 1\n",
    "X_test_quantized = np.array(X_test, dtype=np.int32) & w_feature - 1 \n",
    "\n",
    "\n",
    "\n"
   ]
  },
  {
   "cell_type": "markdown",
   "id": "61aff3d2",
   "metadata": {},
   "source": [
    "## XGBoost Model Training"
   ]
  },
  {
   "cell_type": "code",
   "execution_count": 6,
   "id": "7bd97ed2",
   "metadata": {},
   "outputs": [
    {
     "name": "stdout",
     "output_type": "stream",
     "text": [
      "XGB Model Accuracy: 0.541\n"
     ]
    }
   ],
   "source": [
    "from xgboost import XGBClassifier\n",
    "from sklearn.metrics import accuracy_score\n",
    "\n",
    "xgb_clf = XGBClassifier(**xgb_params)\n",
    "xgb_clf.fit(X_train_quantized, y_train)\n",
    "y_pred_xgb = xgb_clf.predict(X_test_quantized)\n",
    "print(f\"XGB Model Accuracy: {accuracy_score(y_pred_xgb, y_test):.3f}\")"
   ]
  },
  {
   "cell_type": "code",
   "execution_count": 7,
   "id": "7718c936",
   "metadata": {},
   "outputs": [
    {
     "name": "stdout",
     "output_type": "stream",
     "text": [
      "XGB Model Accuracy (not quantized): 0.797\n"
     ]
    }
   ],
   "source": [
    "xgb_clf_not_quantized = XGBClassifier(**xgb_params)\n",
    "xgb_clf_not_quantized.fit(X_train, y_train)\n",
    "y_pred_xgb_not_quantized = xgb_clf_not_quantized.predict(X_test)\n",
    "print(f\"XGB Model Accuracy (not quantized): {accuracy_score(y_pred_xgb_not_quantized, y_test):.3f}\")"
   ]
  },
  {
   "cell_type": "code",
   "execution_count": 8,
   "id": "b889da85",
   "metadata": {},
   "outputs": [
    {
     "name": "stdout",
     "output_type": "stream",
     "text": [
      "XGB Model Accuracy (min-max scaled): 0.772\n"
     ]
    }
   ],
   "source": [
    "xgb_clf_min_max = XGBClassifier(**xgb_params)\n",
    "xgb_clf_min_max.fit(X_train_min_max, y_train)\n",
    "y_pred_xgb_min_max = xgb_clf_min_max.predict(X_test_min_max)\n",
    "print(f\"XGB Model Accuracy (min-max scaled): {accuracy_score(y_pred_xgb_min_max, y_test):.3f}\")"
   ]
  },
  {
   "cell_type": "markdown",
   "id": "40386844",
   "metadata": {},
   "source": [
    "## TreeLUT Model Generation"
   ]
  },
  {
   "cell_type": "code",
   "execution_count": 9,
   "id": "ed3a074d",
   "metadata": {},
   "outputs": [
    {
     "name": "stdout",
     "output_type": "stream",
     "text": [
      "TreeLUT Model Accuracy: 0.750\n",
      "Info: Class 0 Tree 0 has 92 leaves and 91 nodes. Path max: 2.\n",
      "Info: Class 1 Tree 0 has 92 leaves and 91 nodes. Path max: 2.\n",
      "Info: Class 0 Tree 1 has 99 leaves and 98 nodes. Path max: 2.\n",
      "Info: Class 1 Tree 1 has 99 leaves and 98 nodes. Path max: 2.\n",
      "Info: Class 0 Tree 2 has 100 leaves and 99 nodes. Path max: 2.\n",
      "Info: Class 1 Tree 2 has 100 leaves and 99 nodes. Path max: 2.\n",
      "Info: Class 0 Tree 3 has 112 leaves and 111 nodes. Path max: 2.\n",
      "Info: Class 1 Tree 3 has 112 leaves and 111 nodes. Path max: 2.\n",
      "Info: Class 0 Tree 4 has 106 leaves and 105 nodes. Path max: 2.\n",
      "Info: Class 1 Tree 4 has 106 leaves and 105 nodes. Path max: 2.\n",
      "Info: Class 0 Tree 5 has 110 leaves and 109 nodes. Path max: 2.\n",
      "Info: Class 1 Tree 5 has 110 leaves and 109 nodes. Path max: 2.\n",
      "Info: Class 0 Tree 6 has 120 leaves and 119 nodes. Path max: 3.\n",
      "Info: Class 1 Tree 6 has 120 leaves and 119 nodes. Path max: 3.\n",
      "Info: Creating adder tree for class 0...\n",
      "Info: Creating adder tree for class 1...\n",
      "Info: Thresholds for quantization module: [[3.33330000e+04 9.99990000e+04 1.66665000e+05 2.33331000e+05\n",
      "  2.99997000e+05 3.66663000e+05 4.33329000e+05 4.99995000e+05\n",
      "  5.66661000e+05 6.33327000e+05 6.99993000e+05 7.66659000e+05\n",
      "  8.33325000e+05 8.99991000e+05 9.66657000e+05]\n",
      " [8.56621000e+05 2.05954900e+06 3.26247700e+06 4.46540500e+06\n",
      "  5.66833300e+06 6.87126100e+06 8.07418900e+06 9.27711700e+06\n",
      "  1.04800450e+07 1.16829730e+07 1.28859010e+07 1.40888290e+07\n",
      "  1.52917570e+07 1.64946850e+07 1.76976130e+07]\n",
      " [1.43165587e+08 4.29496739e+08 7.15827891e+08 1.00215904e+09\n",
      "  1.28849020e+09 1.57482135e+09 1.86115250e+09 2.14748365e+09\n",
      "  2.43381480e+09 2.72014596e+09 3.00647711e+09 3.29280826e+09\n",
      "  3.57913941e+09 3.86547056e+09 4.15180172e+09]\n",
      " [1.43165576e+08 4.29496728e+08 7.15827880e+08 1.00215903e+09\n",
      "  1.28849018e+09 1.57482134e+09 1.86115249e+09 2.14748364e+09\n",
      "  2.43381479e+09 2.72014594e+09 3.00647710e+09 3.29280825e+09\n",
      "  3.57913940e+09 3.86547055e+09 4.15180170e+09]\n",
      " [1.28465700e+06 2.99680000e+06 4.70894300e+06 6.42108600e+06\n",
      "  8.13322900e+06 9.84537200e+06 1.15575150e+07 1.32696580e+07\n",
      "  1.49818010e+07 1.66939440e+07 1.84060870e+07 2.01182300e+07\n",
      "  2.18303730e+07 2.35425160e+07 2.52546590e+07]\n",
      " [1.43165582e+08 4.29496734e+08 7.15827886e+08 1.00215904e+09\n",
      "  1.28849019e+09 1.57482134e+09 1.86115249e+09 2.14748365e+09\n",
      "  2.43381480e+09 2.72014595e+09 3.00647710e+09 3.29280825e+09\n",
      "  3.57913941e+09 3.86547056e+09 4.15180171e+09]\n",
      " [1.43165579e+08 4.29496731e+08 7.15827883e+08 1.00215904e+09\n",
      "  1.28849019e+09 1.57482134e+09 1.86115249e+09 2.14748364e+09\n",
      "  2.43381480e+09 2.72014595e+09 3.00647710e+09 3.29280825e+09\n",
      "  3.57913940e+09 3.86547056e+09 4.15180171e+09]\n",
      " [6.40919000e+05 1.92131800e+06 3.20171700e+06 4.48211600e+06\n",
      "  5.76251500e+06 7.04291400e+06 8.32331300e+06 9.60371200e+06\n",
      "  1.08841110e+07 1.21645100e+07 1.34449090e+07 1.47253080e+07\n",
      "  1.60057070e+07 1.72861060e+07 1.85665050e+07]\n",
      " [1.43165576e+08 4.29496728e+08 7.15827880e+08 1.00215903e+09\n",
      "  1.28849018e+09 1.57482134e+09 1.86115249e+09 2.14748364e+09\n",
      "  2.43381479e+09 2.72014594e+09 3.00647710e+09 3.29280825e+09\n",
      "  3.57913940e+09 3.86547055e+09 4.15180170e+09]\n",
      " [7.52082000e+05 2.25624700e+06 3.76041200e+06 5.26457700e+06\n",
      "  6.76874200e+06 8.27290700e+06 9.77707200e+06 1.12812370e+07\n",
      "  1.27854020e+07 1.42895670e+07 1.57937320e+07 1.72978970e+07\n",
      "  1.88020620e+07 2.03062270e+07 2.18103920e+07]\n",
      " [1.43165580e+08 4.29496732e+08 7.15827884e+08 1.00215904e+09\n",
      "  1.28849019e+09 1.57482134e+09 1.86115249e+09 2.14748364e+09\n",
      "  2.43381480e+09 2.72014595e+09 3.00647710e+09 3.29280825e+09\n",
      "  3.57913940e+09 3.86547056e+09 4.15180171e+09]\n",
      " [8.23365000e+05 1.93334900e+06 3.04333300e+06 4.15331700e+06\n",
      "  5.26330100e+06 6.37328500e+06 7.48326900e+06 8.59325300e+06\n",
      "  9.70323700e+06 1.08132210e+07 1.19232050e+07 1.30331890e+07\n",
      "  1.41431730e+07 1.52531570e+07 1.63631410e+07]\n",
      " [5.39900000e+05 1.61761800e+06 2.69533600e+06 3.77305400e+06\n",
      "  4.85077200e+06 5.92849000e+06 7.00620800e+06 8.08392600e+06\n",
      "  9.16164400e+06 1.02393620e+07 1.13170800e+07 1.23947980e+07\n",
      "  1.34725160e+07 1.45502340e+07 1.56279520e+07]\n",
      " [2.26353000e+05 6.74963000e+05 1.12357300e+06 1.57218300e+06\n",
      "  2.02079300e+06 2.46940300e+06 2.91801300e+06 3.36662300e+06\n",
      "  3.81523300e+06 4.26384300e+06 4.71245300e+06 5.16106300e+06\n",
      "  5.60967300e+06 6.05828300e+06 6.50689300e+06]\n",
      " [4.34190000e+05 1.30257000e+06 2.17095000e+06 3.03933000e+06\n",
      "  3.90771000e+06 4.77609000e+06 5.64447000e+06 6.51285000e+06\n",
      "  7.38123000e+06 8.24961000e+06 9.11799000e+06 9.98637000e+06\n",
      "  1.08547500e+07 1.17231300e+07 1.25915100e+07]\n",
      " [6.30568000e+05 1.75875500e+06 2.88694200e+06 4.01512900e+06\n",
      "  5.14331600e+06 6.27150300e+06 7.39969000e+06 8.52787700e+06\n",
      "  9.65606400e+06 1.07842510e+07 1.19124380e+07 1.30406250e+07\n",
      "  1.41688120e+07 1.52969990e+07 1.64251860e+07]\n",
      " [3.82196000e+05 1.13765000e+06 1.89310400e+06 2.64855800e+06\n",
      "  3.40401200e+06 4.15946600e+06 4.91492000e+06 5.67037400e+06\n",
      "  6.42582800e+06 7.18128200e+06 7.93673600e+06 8.69219000e+06\n",
      "  9.44764400e+06 1.02030980e+07 1.09585520e+07]\n",
      " [5.30640000e+04 1.59174000e+05 2.65284000e+05 3.71394000e+05\n",
      "  4.77504000e+05 5.83614000e+05 6.89724000e+05 7.95834000e+05\n",
      "  9.01944000e+05 1.00805400e+06 1.11416400e+06 1.22027400e+06\n",
      "  1.32638400e+06 1.43249400e+06 1.53860400e+06]]\n"
     ]
    }
   ],
   "source": [
    "from treelut import TreeLUTClassifier\n",
    "\n",
    "# 2025-05-27 13:40:50\n",
    "# Specifying the parameters for \n",
    "trelut_X_test = X_test if treelut_params['quantized'] else X_test_quantized\n",
    "\n",
    "\n",
    "treelut_clf = TreeLUTClassifier(xgb_model=xgb_clf_min_max, **treelut_params, min=min_values, max=max_values)\n",
    "treelut_clf.convert()\n",
    "y_pred_treelut = treelut_clf.predict(X_test_min_max)\n",
    "print(f\"TreeLUT Model Accuracy: {accuracy_score(y_pred_treelut, y_test):.3f}\")\n",
    "\n",
    "treelut_clf.verilog()\n",
    "treelut_clf.testbench(trelut_X_test, y_test)"
   ]
  }
 ],
 "metadata": {
  "kernelspec": {
   "display_name": "env",
   "language": "python",
   "name": "python3"
  },
  "language_info": {
   "codemirror_mode": {
    "name": "ipython",
    "version": 3
   },
   "file_extension": ".py",
   "mimetype": "text/x-python",
   "name": "python",
   "nbconvert_exporter": "python",
   "pygments_lexer": "ipython3",
   "version": "3.13.3"
  }
 },
 "nbformat": 4,
 "nbformat_minor": 5
}
